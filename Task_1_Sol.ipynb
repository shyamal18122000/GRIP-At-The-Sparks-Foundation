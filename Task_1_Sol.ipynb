{
  "nbformat": 4,
  "nbformat_minor": 0,
  "metadata": {
    "colab": {
      "name": "Task_1_Sol.ipynb",
      "provenance": []
    },
    "kernelspec": {
      "name": "python3",
      "display_name": "Python 3"
    }
  },
  "cells": [
    {
      "cell_type": "markdown",
      "metadata": {
        "id": "q3XyPaIPFvRx"
      },
      "source": [
        "# By Shyamal Krishna Agrawal\r\n",
        "# The Sparks Foundation\r\n",
        "## Data Science & Business Analytics Intern\r\n",
        "### Task 1: Prediction using Supervised ML\r\n",
        "##### For this task, we will be applying Linear Regression for predicting student's percentage based on the no. of study hours\r\n",
        "###### Data Source:http://bit.ly/w-data\r\n",
        "###### Problem statement: What will be the predicted score if student studies for 9.25 hours/day."
      ]
    },
    {
      "cell_type": "code",
      "metadata": {
        "id": "PenVqFQi6YR-"
      },
      "source": [
        "# Importing all libraries required in this notebook\r\n",
        "import pandas as pd\r\n",
        "import numpy as np  \r\n",
        "import matplotlib.pyplot as plt  \r\n",
        "%matplotlib inline"
      ],
      "execution_count": 51,
      "outputs": []
    },
    {
      "cell_type": "code",
      "metadata": {
        "colab": {
          "base_uri": "https://localhost:8080/",
          "height": 360
        },
        "id": "dGszJ0K96cZL",
        "outputId": "f2c38b75-0c20-48cf-97fb-4956e789fcb4"
      },
      "source": [
        "url = \"http://bit.ly/w-data\"\r\n",
        "dataset = pd.read_csv(url)\r\n",
        "print(\"Data imported successfully\")\r\n",
        "\r\n",
        "dataset.head(10)"
      ],
      "execution_count": 52,
      "outputs": [
        {
          "output_type": "stream",
          "text": [
            "Data imported successfully\n"
          ],
          "name": "stdout"
        },
        {
          "output_type": "execute_result",
          "data": {
            "text/html": [
              "<div>\n",
              "<style scoped>\n",
              "    .dataframe tbody tr th:only-of-type {\n",
              "        vertical-align: middle;\n",
              "    }\n",
              "\n",
              "    .dataframe tbody tr th {\n",
              "        vertical-align: top;\n",
              "    }\n",
              "\n",
              "    .dataframe thead th {\n",
              "        text-align: right;\n",
              "    }\n",
              "</style>\n",
              "<table border=\"1\" class=\"dataframe\">\n",
              "  <thead>\n",
              "    <tr style=\"text-align: right;\">\n",
              "      <th></th>\n",
              "      <th>Hours</th>\n",
              "      <th>Scores</th>\n",
              "    </tr>\n",
              "  </thead>\n",
              "  <tbody>\n",
              "    <tr>\n",
              "      <th>0</th>\n",
              "      <td>2.5</td>\n",
              "      <td>21</td>\n",
              "    </tr>\n",
              "    <tr>\n",
              "      <th>1</th>\n",
              "      <td>5.1</td>\n",
              "      <td>47</td>\n",
              "    </tr>\n",
              "    <tr>\n",
              "      <th>2</th>\n",
              "      <td>3.2</td>\n",
              "      <td>27</td>\n",
              "    </tr>\n",
              "    <tr>\n",
              "      <th>3</th>\n",
              "      <td>8.5</td>\n",
              "      <td>75</td>\n",
              "    </tr>\n",
              "    <tr>\n",
              "      <th>4</th>\n",
              "      <td>3.5</td>\n",
              "      <td>30</td>\n",
              "    </tr>\n",
              "    <tr>\n",
              "      <th>5</th>\n",
              "      <td>1.5</td>\n",
              "      <td>20</td>\n",
              "    </tr>\n",
              "    <tr>\n",
              "      <th>6</th>\n",
              "      <td>9.2</td>\n",
              "      <td>88</td>\n",
              "    </tr>\n",
              "    <tr>\n",
              "      <th>7</th>\n",
              "      <td>5.5</td>\n",
              "      <td>60</td>\n",
              "    </tr>\n",
              "    <tr>\n",
              "      <th>8</th>\n",
              "      <td>8.3</td>\n",
              "      <td>81</td>\n",
              "    </tr>\n",
              "    <tr>\n",
              "      <th>9</th>\n",
              "      <td>2.7</td>\n",
              "      <td>25</td>\n",
              "    </tr>\n",
              "  </tbody>\n",
              "</table>\n",
              "</div>"
            ],
            "text/plain": [
              "   Hours  Scores\n",
              "0    2.5      21\n",
              "1    5.1      47\n",
              "2    3.2      27\n",
              "3    8.5      75\n",
              "4    3.5      30\n",
              "5    1.5      20\n",
              "6    9.2      88\n",
              "7    5.5      60\n",
              "8    8.3      81\n",
              "9    2.7      25"
            ]
          },
          "metadata": {
            "tags": []
          },
          "execution_count": 52
        }
      ]
    },
    {
      "cell_type": "code",
      "metadata": {
        "colab": {
          "base_uri": "https://localhost:8080/",
          "height": 295
        },
        "id": "HVNF16M26ddY",
        "outputId": "ba2dde92-72ec-4bbd-a875-922c192bd9c1"
      },
      "source": [
        "# Plotting the distribution of scores\r\n",
        "dataset.plot(x='Hours', y='Scores', style='o')  \r\n",
        "plt.title('Hours vs Percentage')  \r\n",
        "plt.xlabel('Hours Studied')  \r\n",
        "plt.ylabel('Percentage Score')  \r\n",
        "plt.show()"
      ],
      "execution_count": 53,
      "outputs": [
        {
          "output_type": "display_data",
          "data": {
            "image/png": "[encoded data removed]",
            "text/plain": [
              "<Figure size 432x288 with 1 Axes>"
            ]
          },
          "metadata": {
            "tags": [],
            "needs_background": "light"
          }
        }
      ]
    },
    {
      "cell_type": "code",
      "metadata": {
        "id": "7chvIrv18CmX"
      },
      "source": [
        "X=dataset.iloc[:, :1].values\r\n",
        "Y=dataset.iloc[:, 1].values\r\n",
        "\r\n",
        "# Spliting the data\r\n",
        "from sklearn.model_selection import train_test_split\r\n",
        "X_train, X_test, y_train, y_test = train_test_split(X, Y, test_size = 0.2, random_state = 0)"
      ],
      "execution_count": 54,
      "outputs": []
    },
    {
      "cell_type": "code",
      "metadata": {
        "id": "3GprVKILRHFj"
      },
      "source": [
        "# Fitting Simple Linear Regression to the Training set\r\n",
        "from sklearn.linear_model import LinearRegression\r\n",
        "regressor = LinearRegression()\r\n",
        "regressor.fit(X_train, y_train)\r\n",
        "\r\n",
        "# Predicting the Test set results\r\n",
        "y_pred = regressor.predict(X_test)\r\n"
      ],
      "execution_count": 55,
      "outputs": []
    },
    {
      "cell_type": "code",
      "metadata": {
        "colab": {
          "base_uri": "https://localhost:8080/",
          "height": 295
        },
        "id": "ohtEa-50SdYh",
        "outputId": "5b34e079-4ef6-456a-b1ac-d49fb47dce0f"
      },
      "source": [
        "# Visualising the Training set results\r\n",
        "plt.scatter(X_train, y_train, color = 'red')\r\n",
        "plt.plot(X_train, regressor.predict(X_train), color = 'blue')\r\n",
        "plt.title(\"Study hours V/s percentage (using linear regression)\")\r\n",
        "plt.xlabel(\"Study hours\")\r\n",
        "plt.ylabel(\"percentage\")\r\n",
        "plt.show()"
      ],
      "execution_count": 56,
      "outputs": [
        {
          "output_type": "display_data",
          "data": {
            "image/png": "[encoded data removed]",
            "text/plain": [
              "<Figure size 432x288 with 1 Axes>"
            ]
          },
          "metadata": {
            "tags": [],
            "needs_background": "light"
          }
        }
      ]
    },
    {
      "cell_type": "code",
      "metadata": {
        "colab": {
          "base_uri": "https://localhost:8080/",
          "height": 295
        },
        "id": "KknJB4t8Sd5Z",
        "outputId": "0976ce71-46ad-4902-8582-b175e3d34f5b"
      },
      "source": [
        "# Visualising the Test set results\r\n",
        "plt.scatter(X_test, y_test, color = 'red')\r\n",
        "plt.plot(X_train, regressor.predict(X_train), color = 'blue')\r\n",
        "plt.title(\"Study hours V/s percentage (using linear regression)\")\r\n",
        "plt.xlabel(\"Study hours\")\r\n",
        "plt.ylabel(\"percentage\")\r\n",
        "plt.show()"
      ],
      "execution_count": 57,
      "outputs": [
        {
          "output_type": "display_data",
          "data": {
            "image/png": "[encoded data removed]",
            "text/plain": [
              "<Figure size 432x288 with 1 Axes>"
            ]
          },
          "metadata": {
            "tags": [],
            "needs_background": "light"
          }
        }
      ]
    },
    {
      "cell_type": "code",
      "metadata": {
        "colab": {
          "base_uri": "https://localhost:8080/"
        },
        "id": "EhtXgvMRRbZ1",
        "outputId": "7ce1bc38-53a3-4a6c-8d35-dae909e4e232"
      },
      "source": [
        "from sklearn import metrics  \r\n",
        "print('Mean Absolute Error(for linear regression):', metrics.mean_absolute_error(Y, Y_pred)) \r\n",
        "print(\"if a student studies for 9.25 hrs/day his predicted score is\",round(regressor.predict([[9.25]])[0],2))"
      ],
      "execution_count": 58,
      "outputs": [
        {
          "output_type": "stream",
          "text": [
            "Mean Absolute Error(for linear regression): 4.972805319866375\n",
            "if a student studies for 9.25 hrs/day his predicted score is 93.69\n"
          ],
          "name": "stdout"
        }
      ]
    },
    {
      "cell_type": "markdown",
      "metadata": {
        "id": "QIzzFg0BP72t"
      },
      "source": [
        "\r\n",
        "### After successful model building we can conclude that 'if a student studies for 9.25 hrs/day his predicted score is 93.69"
      ]
    }
  ]
}